{
 "cells": [
  {
   "cell_type": "markdown",
   "id": "26411259-7f95-4f03-9712-14bdc8557375",
   "metadata": {},
   "source": [
    "# Solución en la página:"
   ]
  },
  {
   "cell_type": "code",
   "execution_count": 167,
   "id": "8702f2b4-f156-4499-95e1-70568c59ea59",
   "metadata": {},
   "outputs": [
    {
     "name": "stdin",
     "output_type": "stream",
     "text": [
      " 4\n",
      " 3 3 3 3\n"
     ]
    },
    {
     "name": "stdout",
     "output_type": "stream",
     "text": [
      "4\n"
     ]
    }
   ],
   "source": [
    "def hacer_distintos(A):\n",
    "    operaciones = 0\n",
    "    apariciones = {}\n",
    "    vistos = set()\n",
    "    \n",
    "    # Preprocesar el vector para inicializar apariciones y vistos\n",
    "    for num in A:\n",
    "        if num in apariciones:\n",
    "            apariciones[num][0] += 1\n",
    "        else:\n",
    "            apariciones[num] = [1, 0]\n",
    "            vistos.add(num)\n",
    "    \n",
    "    for num in A:\n",
    "        desplazamiento = apariciones[num][1]\n",
    "        if apariciones[num][0] > 1:\n",
    "            num_pos = num + desplazamiento\n",
    "            num_neg = num - desplazamiento\n",
    "            while True:\n",
    "                if num_neg not in vistos:\n",
    "                    nuevo_num = num_neg\n",
    "                    break\n",
    "                num_neg -= 1\n",
    "                if num_pos not in vistos:\n",
    "                    nuevo_num = num_pos\n",
    "                    break\n",
    "                num_pos +=1\n",
    "            \n",
    "            # Actualizar apariciones y vistos\n",
    "            apariciones[num][0] -= 1\n",
    "            apariciones[nuevo_num] = [1, 0]\n",
    "            vistos.add(nuevo_num)\n",
    "            apariciones[num][1] = abs(num-nuevo_num)\n",
    "            \n",
    "            # Actualizar el vector y operaciones\n",
    "            operaciones += abs(num-nuevo_num)\n",
    "\n",
    "    return operaciones\n",
    "\n",
    "N = int(input().strip())\n",
    "A = list(map(int, input().split()))\n",
    "\n",
    "resultado = hacer_distintos(A)\n",
    "print(resultado)"
   ]
  },
  {
   "cell_type": "code",
   "execution_count": null,
   "id": "288e9ed2-5c4d-425d-9354-4165c62af0a9",
   "metadata": {},
   "outputs": [],
   "source": []
  }
 ],
 "metadata": {
  "kernelspec": {
   "display_name": "Python 3 (ipykernel)",
   "language": "python",
   "name": "python3"
  },
  "language_info": {
   "codemirror_mode": {
    "name": "ipython",
    "version": 3
   },
   "file_extension": ".py",
   "mimetype": "text/x-python",
   "name": "python",
   "nbconvert_exporter": "python",
   "pygments_lexer": "ipython3",
   "version": "3.11.7"
  }
 },
 "nbformat": 4,
 "nbformat_minor": 5
}
