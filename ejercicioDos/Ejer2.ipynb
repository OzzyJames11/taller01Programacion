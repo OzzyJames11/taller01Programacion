{
 "cells": [
  {
   "cell_type": "markdown",
   "id": "26411259-7f95-4f03-9712-14bdc8557375",
   "metadata": {},
   "source": [
    "# Solución en la página:"
   ]
  },
  {
   "cell_type": "code",
   "execution_count": 163,
   "id": "8702f2b4-f156-4499-95e1-70568c59ea59",
   "metadata": {},
   "outputs": [
    {
     "name": "stdin",
     "output_type": "stream",
     "text": [
      " 4\n",
      " 3 3 3 3\n"
     ]
    },
    {
     "name": "stdout",
     "output_type": "stream",
     "text": [
      "4\n"
     ]
    }
   ],
   "source": [
    "from collections import defaultdict\n",
    "\n",
    "def encontrar_no_repetido(vistos, num, desplazamiento):\n",
    "    while True:\n",
    "        nuevo_num = num + desplazamiento\n",
    "        if nuevo_num not in vistos:\n",
    "            return nuevo_num\n",
    "        nuevo_num = num - desplazamiento\n",
    "        if nuevo_num not in vistos:\n",
    "            return nuevo_num\n",
    "        desplazamiento += 1\n",
    "\n",
    "def hacer_distintos(A):\n",
    "    operaciones = 0\n",
    "    vistos = set()\n",
    "    apariciones = defaultdict(lambda: (0, 0))\n",
    "    \n",
    "    for num in A:\n",
    "        apariciones[num] = (apariciones[num][0] + 1, apariciones[num][1])\n",
    "        vistos.add(num)\n",
    "    \n",
    "    for i in range(len(A)):\n",
    "        num = A[i]\n",
    "        desplazamiento = apariciones[num][1]\n",
    "        if apariciones[num][0] > 1:  # Si el número aparece más de una vez\n",
    "            nuevo_num = encontrar_no_repetido(vistos, num, desplazamiento)\n",
    "            operaciones += abs(nuevo_num - num)\n",
    "            vistos.add(nuevo_num)\n",
    "            apariciones[num] = (apariciones[num][0] - 1, abs(nuevo_num - num))\n",
    "            apariciones[nuevo_num] = (1, 0)\n",
    "            A[i] = nuevo_num\n",
    "\n",
    "    return operaciones\n",
    "\n",
    "def obtener_numeros(cadena):\n",
    "    return list(map(int, cadena.split()))\n",
    "\n",
    "def main():\n",
    "    N = int(input().strip())\n",
    "    entrada_A = input().strip()\n",
    "    A = obtener_numeros(entrada_A)\n",
    "    A = A[:N]\n",
    "\n",
    "    resultado = hacer_distintos(A)\n",
    "    print(resultado)\n",
    "\n",
    "main()"
   ]
  },
  {
   "cell_type": "code",
   "execution_count": null,
   "id": "288e9ed2-5c4d-425d-9354-4165c62af0a9",
   "metadata": {},
   "outputs": [],
   "source": []
  }
 ],
 "metadata": {
  "kernelspec": {
   "display_name": "Python 3 (ipykernel)",
   "language": "python",
   "name": "python3"
  },
  "language_info": {
   "codemirror_mode": {
    "name": "ipython",
    "version": 3
   },
   "file_extension": ".py",
   "mimetype": "text/x-python",
   "name": "python",
   "nbconvert_exporter": "python",
   "pygments_lexer": "ipython3",
   "version": "3.11.7"
  }
 },
 "nbformat": 4,
 "nbformat_minor": 5
}
