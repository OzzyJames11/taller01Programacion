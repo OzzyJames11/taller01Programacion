{
 "cells": [
  {
   "cell_type": "markdown",
   "id": "19dda9ad-9dbd-4083-abdf-a8e4fe7ee663",
   "metadata": {},
   "source": [
    "# Solución en la página:"
   ]
  },
  {
   "cell_type": "code",
   "execution_count": null,
   "id": "80cfb683-728d-4d69-86bc-6de79c690413",
   "metadata": {},
   "outputs": [],
   "source": [
    "def parser():\n",
    "    while 1:\n",
    "        data = list(input().split(' '))\n",
    "        for number in data:\n",
    "            if len(number) > 0:\n",
    "                yield(number)   \n",
    "\n",
    "input_parser = parser()\n",
    "\n",
    "def get_word():\n",
    "    global input_parser\n",
    "    return next(input_parser)\n",
    "\n",
    "def get_number():\n",
    "    data = get_word()\n",
    "    try:\n",
    "        return int(data)\n",
    "    except ValueError:\n",
    "        return float(data)\n",
    "\n",
    "def guess_sequence(N):\n",
    "    # Initialize a list of zeros\n",
    "    guess = ['0'] * N\n",
    "\n",
    "    # First query with all zeros\n",
    "    print(\"Q\", \" \".join(guess), flush=True)\n",
    "    correct_bits = get_number()\n",
    "\n",
    "    for i in range(N):\n",
    "        # Flip the ith bit\n",
    "        guess[i] = '1'\n",
    "        print(\"Q\", \" \".join(guess), flush=True)\n",
    "        new_correct_bits = get_number()\n",
    "        \n",
    "        if new_correct_bits > correct_bits:\n",
    "            # If the number of correct bits increased, keep the bit as '1'\n",
    "            correct_bits = new_correct_bits\n",
    "        else:\n",
    "            # If not, flip the bit back to '0'\n",
    "            guess[i] = '0'\n",
    "    \n",
    "    # Final answer\n",
    "    print(\"A\", \" \".join(guess), flush=True)\n",
    "\n",
    "# Read the length of the sequence\n",
    "N = get_number()\n",
    "\n",
    "# Guess the sequence\n",
    "guess_sequence(N)"
   ]
  },
  {
   "cell_type": "code",
   "execution_count": null,
   "id": "88449dce-bc24-4552-9556-46bb8e32b74d",
   "metadata": {},
   "outputs": [],
   "source": []
  }
 ],
 "metadata": {
  "kernelspec": {
   "display_name": "Python 3 (ipykernel)",
   "language": "python",
   "name": "python3"
  },
  "language_info": {
   "codemirror_mode": {
    "name": "ipython",
    "version": 3
   },
   "file_extension": ".py",
   "mimetype": "text/x-python",
   "name": "python",
   "nbconvert_exporter": "python",
   "pygments_lexer": "ipython3",
   "version": "3.11.7"
  }
 },
 "nbformat": 4,
 "nbformat_minor": 5
}
